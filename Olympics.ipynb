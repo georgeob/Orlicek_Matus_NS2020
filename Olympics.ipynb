{
  "cells": [
    {
      "metadata": {
        "trusted": true
      },
      "cell_type": "code",
      "source": "import pandas as pd",
      "execution_count": 13,
      "outputs": []
    },
    {
      "metadata": {
        "trusted": true
      },
      "cell_type": "code",
      "source": "udaje_atleti = pd.read_csv('athlete_events.csv')\nregiony = pd.read_csv('noc_regions.csv')",
      "execution_count": 14,
      "outputs": []
    },
    {
      "metadata": {
        "trusted": true
      },
      "cell_type": "code",
      "source": "udaje_atleti.head(10)",
      "execution_count": 15,
      "outputs": [
        {
          "output_type": "execute_result",
          "execution_count": 15,
          "data": {
            "text/html": "<div>\n<style scoped>\n    .dataframe tbody tr th:only-of-type {\n        vertical-align: middle;\n    }\n\n    .dataframe tbody tr th {\n        vertical-align: top;\n    }\n\n    .dataframe thead th {\n        text-align: right;\n    }\n</style>\n<table border=\"1\" class=\"dataframe\">\n  <thead>\n    <tr style=\"text-align: right;\">\n      <th></th>\n      <th>ID</th>\n      <th>Name</th>\n      <th>Sex</th>\n      <th>Age</th>\n      <th>Height</th>\n      <th>Weight</th>\n      <th>Team</th>\n      <th>NOC</th>\n      <th>Games</th>\n      <th>Year</th>\n      <th>Season</th>\n      <th>City</th>\n      <th>Sport</th>\n      <th>Event</th>\n      <th>Medal</th>\n    </tr>\n  </thead>\n  <tbody>\n    <tr>\n      <th>0</th>\n      <td>1</td>\n      <td>A Dijiang</td>\n      <td>M</td>\n      <td>24.0</td>\n      <td>180.0</td>\n      <td>80.0</td>\n      <td>China</td>\n      <td>CHN</td>\n      <td>1992 Summer</td>\n      <td>1992.0</td>\n      <td>Summer</td>\n      <td>Barcelona</td>\n      <td>Basketball</td>\n      <td>Basketball Men's Basketball</td>\n      <td>NaN</td>\n    </tr>\n    <tr>\n      <th>1</th>\n      <td>2</td>\n      <td>A Lamusi</td>\n      <td>M</td>\n      <td>23.0</td>\n      <td>170.0</td>\n      <td>60.0</td>\n      <td>China</td>\n      <td>CHN</td>\n      <td>2012 Summer</td>\n      <td>2012.0</td>\n      <td>Summer</td>\n      <td>London</td>\n      <td>Judo</td>\n      <td>Judo Men's Extra-Lightweight</td>\n      <td>NaN</td>\n    </tr>\n    <tr>\n      <th>2</th>\n      <td>3</td>\n      <td>Gunnar Nielsen Aaby</td>\n      <td>M</td>\n      <td>24.0</td>\n      <td>NaN</td>\n      <td>NaN</td>\n      <td>Denmark</td>\n      <td>DEN</td>\n      <td>1920 Summer</td>\n      <td>1920.0</td>\n      <td>Summer</td>\n      <td>Antwerpen</td>\n      <td>Football</td>\n      <td>Football Men's Football</td>\n      <td>NaN</td>\n    </tr>\n    <tr>\n      <th>3</th>\n      <td>4</td>\n      <td>Edgar Lindenau Aabye</td>\n      <td>M</td>\n      <td>34.0</td>\n      <td>NaN</td>\n      <td>NaN</td>\n      <td>Denmark/Sweden</td>\n      <td>DEN</td>\n      <td>1900 Summer</td>\n      <td>1900.0</td>\n      <td>Summer</td>\n      <td>Paris</td>\n      <td>Tug-Of-War</td>\n      <td>Tug-Of-War Men's Tug-Of-War</td>\n      <td>Gold</td>\n    </tr>\n    <tr>\n      <th>4</th>\n      <td>5</td>\n      <td>Christine Jacoba Aaftink</td>\n      <td>F</td>\n      <td>21.0</td>\n      <td>185.0</td>\n      <td>82.0</td>\n      <td>Netherlands</td>\n      <td>NED</td>\n      <td>1988 Winter</td>\n      <td>1988.0</td>\n      <td>Winter</td>\n      <td>Calgary</td>\n      <td>Speed Skating</td>\n      <td>Speed Skating Women's 500 metres</td>\n      <td>NaN</td>\n    </tr>\n    <tr>\n      <th>5</th>\n      <td>5</td>\n      <td>Christine Jacoba Aaftink</td>\n      <td>F</td>\n      <td>21.0</td>\n      <td>185.0</td>\n      <td>82.0</td>\n      <td>Netherlands</td>\n      <td>NED</td>\n      <td>1988 Winter</td>\n      <td>1988.0</td>\n      <td>Winter</td>\n      <td>Calgary</td>\n      <td>Speed Skating</td>\n      <td>Speed Skating Women's 1,000 metres</td>\n      <td>NaN</td>\n    </tr>\n    <tr>\n      <th>6</th>\n      <td>5</td>\n      <td>Christine Jacoba Aaftink</td>\n      <td>F</td>\n      <td>25.0</td>\n      <td>185.0</td>\n      <td>82.0</td>\n      <td>Netherlands</td>\n      <td>NED</td>\n      <td>1992 Winter</td>\n      <td>1992.0</td>\n      <td>Winter</td>\n      <td>Albertville</td>\n      <td>Speed Skating</td>\n      <td>Speed Skating Women's 500 metres</td>\n      <td>NaN</td>\n    </tr>\n    <tr>\n      <th>7</th>\n      <td>5</td>\n      <td>Christine Jacoba Aaftink</td>\n      <td>F</td>\n      <td>25.0</td>\n      <td>185.0</td>\n      <td>82.0</td>\n      <td>Netherlands</td>\n      <td>NED</td>\n      <td>1992 Winter</td>\n      <td>1992.0</td>\n      <td>Winter</td>\n      <td>Albertville</td>\n      <td>Speed Skating</td>\n      <td>Speed Skating Women's 1,000 metres</td>\n      <td>NaN</td>\n    </tr>\n    <tr>\n      <th>8</th>\n      <td>5</td>\n      <td>Christine Jacoba Aaftink</td>\n      <td>F</td>\n      <td>27.0</td>\n      <td>185.0</td>\n      <td>82.0</td>\n      <td>Netherlands</td>\n      <td>NED</td>\n      <td>1994 Winter</td>\n      <td>1994.0</td>\n      <td>Winter</td>\n      <td>Lillehammer</td>\n      <td>Speed Skating</td>\n      <td>Speed Skating Women's 500 metres</td>\n      <td>NaN</td>\n    </tr>\n    <tr>\n      <th>9</th>\n      <td>5</td>\n      <td>Christine Jacoba Aaftink</td>\n      <td>F</td>\n      <td>27.0</td>\n      <td>185.0</td>\n      <td>82.0</td>\n      <td>Netherlands</td>\n      <td>NED</td>\n      <td>1994 Winter</td>\n      <td>1994.0</td>\n      <td>Winter</td>\n      <td>Lillehammer</td>\n      <td>Speed Skating</td>\n      <td>Speed Skating Women's 1,000 metres</td>\n      <td>NaN</td>\n    </tr>\n  </tbody>\n</table>\n</div>",
            "text/plain": "   ID                      Name Sex   Age  Height  Weight            Team  \\\n0   1                 A Dijiang   M  24.0   180.0    80.0           China   \n1   2                  A Lamusi   M  23.0   170.0    60.0           China   \n2   3       Gunnar Nielsen Aaby   M  24.0     NaN     NaN         Denmark   \n3   4      Edgar Lindenau Aabye   M  34.0     NaN     NaN  Denmark/Sweden   \n4   5  Christine Jacoba Aaftink   F  21.0   185.0    82.0     Netherlands   \n5   5  Christine Jacoba Aaftink   F  21.0   185.0    82.0     Netherlands   \n6   5  Christine Jacoba Aaftink   F  25.0   185.0    82.0     Netherlands   \n7   5  Christine Jacoba Aaftink   F  25.0   185.0    82.0     Netherlands   \n8   5  Christine Jacoba Aaftink   F  27.0   185.0    82.0     Netherlands   \n9   5  Christine Jacoba Aaftink   F  27.0   185.0    82.0     Netherlands   \n\n   NOC        Games    Year  Season         City          Sport  \\\n0  CHN  1992 Summer  1992.0  Summer    Barcelona     Basketball   \n1  CHN  2012 Summer  2012.0  Summer       London           Judo   \n2  DEN  1920 Summer  1920.0  Summer    Antwerpen       Football   \n3  DEN  1900 Summer  1900.0  Summer        Paris     Tug-Of-War   \n4  NED  1988 Winter  1988.0  Winter      Calgary  Speed Skating   \n5  NED  1988 Winter  1988.0  Winter      Calgary  Speed Skating   \n6  NED  1992 Winter  1992.0  Winter  Albertville  Speed Skating   \n7  NED  1992 Winter  1992.0  Winter  Albertville  Speed Skating   \n8  NED  1994 Winter  1994.0  Winter  Lillehammer  Speed Skating   \n9  NED  1994 Winter  1994.0  Winter  Lillehammer  Speed Skating   \n\n                                Event Medal  \n0         Basketball Men's Basketball   NaN  \n1        Judo Men's Extra-Lightweight   NaN  \n2             Football Men's Football   NaN  \n3         Tug-Of-War Men's Tug-Of-War  Gold  \n4    Speed Skating Women's 500 metres   NaN  \n5  Speed Skating Women's 1,000 metres   NaN  \n6    Speed Skating Women's 500 metres   NaN  \n7  Speed Skating Women's 1,000 metres   NaN  \n8    Speed Skating Women's 500 metres   NaN  \n9  Speed Skating Women's 1,000 metres   NaN  "
          },
          "metadata": {}
        }
      ]
    },
    {
      "metadata": {
        "trusted": true
      },
      "cell_type": "code",
      "source": "udaje_atleti.describe()",
      "execution_count": 16,
      "outputs": [
        {
          "output_type": "execute_result",
          "execution_count": 16,
          "data": {
            "text/html": "<div>\n<style scoped>\n    .dataframe tbody tr th:only-of-type {\n        vertical-align: middle;\n    }\n\n    .dataframe tbody tr th {\n        vertical-align: top;\n    }\n\n    .dataframe thead th {\n        text-align: right;\n    }\n</style>\n<table border=\"1\" class=\"dataframe\">\n  <thead>\n    <tr style=\"text-align: right;\">\n      <th></th>\n      <th>ID</th>\n      <th>Age</th>\n      <th>Height</th>\n      <th>Weight</th>\n      <th>Year</th>\n    </tr>\n  </thead>\n  <tbody>\n    <tr>\n      <th>count</th>\n      <td>165890.000000</td>\n      <td>160065.000000</td>\n      <td>128592.000000</td>\n      <td>126838.000000</td>\n      <td>165889.000000</td>\n    </tr>\n    <tr>\n      <th>mean</th>\n      <td>42014.193381</td>\n      <td>25.565002</td>\n      <td>175.390584</td>\n      <td>70.759764</td>\n      <td>1978.133197</td>\n    </tr>\n    <tr>\n      <th>std</th>\n      <td>23897.602264</td>\n      <td>6.439034</td>\n      <td>10.478342</td>\n      <td>14.267064</td>\n      <td>29.938311</td>\n    </tr>\n    <tr>\n      <th>min</th>\n      <td>1.000000</td>\n      <td>10.000000</td>\n      <td>127.000000</td>\n      <td>25.000000</td>\n      <td>1896.000000</td>\n    </tr>\n    <tr>\n      <th>25%</th>\n      <td>21396.250000</td>\n      <td>21.000000</td>\n      <td>168.000000</td>\n      <td>61.000000</td>\n      <td>1960.000000</td>\n    </tr>\n    <tr>\n      <th>50%</th>\n      <td>42130.000000</td>\n      <td>24.000000</td>\n      <td>175.000000</td>\n      <td>70.000000</td>\n      <td>1988.000000</td>\n    </tr>\n    <tr>\n      <th>75%</th>\n      <td>62840.750000</td>\n      <td>28.000000</td>\n      <td>183.000000</td>\n      <td>79.000000</td>\n      <td>2002.000000</td>\n    </tr>\n    <tr>\n      <th>max</th>\n      <td>83319.000000</td>\n      <td>96.000000</td>\n      <td>223.000000</td>\n      <td>214.000000</td>\n      <td>2016.000000</td>\n    </tr>\n  </tbody>\n</table>\n</div>",
            "text/plain": "                  ID            Age         Height         Weight  \\\ncount  165890.000000  160065.000000  128592.000000  126838.000000   \nmean    42014.193381      25.565002     175.390584      70.759764   \nstd     23897.602264       6.439034      10.478342      14.267064   \nmin         1.000000      10.000000     127.000000      25.000000   \n25%     21396.250000      21.000000     168.000000      61.000000   \n50%     42130.000000      24.000000     175.000000      70.000000   \n75%     62840.750000      28.000000     183.000000      79.000000   \nmax     83319.000000      96.000000     223.000000     214.000000   \n\n                Year  \ncount  165889.000000  \nmean     1978.133197  \nstd        29.938311  \nmin      1896.000000  \n25%      1960.000000  \n50%      1988.000000  \n75%      2002.000000  \nmax      2016.000000  "
          },
          "metadata": {}
        }
      ]
    },
    {
      "metadata": {
        "trusted": true
      },
      "cell_type": "code",
      "source": "regiony.head(10)",
      "execution_count": 17,
      "outputs": [
        {
          "output_type": "execute_result",
          "execution_count": 17,
          "data": {
            "text/html": "<div>\n<style scoped>\n    .dataframe tbody tr th:only-of-type {\n        vertical-align: middle;\n    }\n\n    .dataframe tbody tr th {\n        vertical-align: top;\n    }\n\n    .dataframe thead th {\n        text-align: right;\n    }\n</style>\n<table border=\"1\" class=\"dataframe\">\n  <thead>\n    <tr style=\"text-align: right;\">\n      <th></th>\n      <th>NOC</th>\n      <th>region</th>\n      <th>notes</th>\n    </tr>\n  </thead>\n  <tbody>\n    <tr>\n      <th>0</th>\n      <td>AFG</td>\n      <td>Afghanistan</td>\n      <td>NaN</td>\n    </tr>\n    <tr>\n      <th>1</th>\n      <td>AHO</td>\n      <td>Curacao</td>\n      <td>Netherlands Antilles</td>\n    </tr>\n    <tr>\n      <th>2</th>\n      <td>ALB</td>\n      <td>Albania</td>\n      <td>NaN</td>\n    </tr>\n    <tr>\n      <th>3</th>\n      <td>ALG</td>\n      <td>Algeria</td>\n      <td>NaN</td>\n    </tr>\n    <tr>\n      <th>4</th>\n      <td>AND</td>\n      <td>Andorra</td>\n      <td>NaN</td>\n    </tr>\n    <tr>\n      <th>5</th>\n      <td>ANG</td>\n      <td>Angola</td>\n      <td>NaN</td>\n    </tr>\n    <tr>\n      <th>6</th>\n      <td>ANT</td>\n      <td>Antigua</td>\n      <td>Antigua and Barbuda</td>\n    </tr>\n    <tr>\n      <th>7</th>\n      <td>ANZ</td>\n      <td>Australia</td>\n      <td>Australasia</td>\n    </tr>\n    <tr>\n      <th>8</th>\n      <td>ARG</td>\n      <td>Argentina</td>\n      <td>NaN</td>\n    </tr>\n    <tr>\n      <th>9</th>\n      <td>ARM</td>\n      <td>Armenia</td>\n      <td>NaN</td>\n    </tr>\n  </tbody>\n</table>\n</div>",
            "text/plain": "   NOC       region                 notes\n0  AFG  Afghanistan                   NaN\n1  AHO      Curacao  Netherlands Antilles\n2  ALB      Albania                   NaN\n3  ALG      Algeria                   NaN\n4  AND      Andorra                   NaN\n5  ANG       Angola                   NaN\n6  ANT      Antigua   Antigua and Barbuda\n7  ANZ    Australia           Australasia\n8  ARG    Argentina                   NaN\n9  ARM      Armenia                   NaN"
          },
          "metadata": {}
        }
      ]
    },
    {
      "metadata": {
        "trusted": true
      },
      "cell_type": "code",
      "source": "data = pd.merge(udaje_atleti, regiony, on='NOC', how='left')",
      "execution_count": 18,
      "outputs": []
    },
    {
      "metadata": {
        "trusted": true
      },
      "cell_type": "code",
      "source": "data.head()",
      "execution_count": 19,
      "outputs": [
        {
          "output_type": "execute_result",
          "execution_count": 19,
          "data": {
            "text/html": "<div>\n<style scoped>\n    .dataframe tbody tr th:only-of-type {\n        vertical-align: middle;\n    }\n\n    .dataframe tbody tr th {\n        vertical-align: top;\n    }\n\n    .dataframe thead th {\n        text-align: right;\n    }\n</style>\n<table border=\"1\" class=\"dataframe\">\n  <thead>\n    <tr style=\"text-align: right;\">\n      <th></th>\n      <th>ID</th>\n      <th>Name</th>\n      <th>Sex</th>\n      <th>Age</th>\n      <th>Height</th>\n      <th>Weight</th>\n      <th>Team</th>\n      <th>NOC</th>\n      <th>Games</th>\n      <th>Year</th>\n      <th>Season</th>\n      <th>City</th>\n      <th>Sport</th>\n      <th>Event</th>\n      <th>Medal</th>\n      <th>region</th>\n      <th>notes</th>\n    </tr>\n  </thead>\n  <tbody>\n    <tr>\n      <th>0</th>\n      <td>1</td>\n      <td>A Dijiang</td>\n      <td>M</td>\n      <td>24.0</td>\n      <td>180.0</td>\n      <td>80.0</td>\n      <td>China</td>\n      <td>CHN</td>\n      <td>1992 Summer</td>\n      <td>1992.0</td>\n      <td>Summer</td>\n      <td>Barcelona</td>\n      <td>Basketball</td>\n      <td>Basketball Men's Basketball</td>\n      <td>NaN</td>\n      <td>China</td>\n      <td>NaN</td>\n    </tr>\n    <tr>\n      <th>1</th>\n      <td>2</td>\n      <td>A Lamusi</td>\n      <td>M</td>\n      <td>23.0</td>\n      <td>170.0</td>\n      <td>60.0</td>\n      <td>China</td>\n      <td>CHN</td>\n      <td>2012 Summer</td>\n      <td>2012.0</td>\n      <td>Summer</td>\n      <td>London</td>\n      <td>Judo</td>\n      <td>Judo Men's Extra-Lightweight</td>\n      <td>NaN</td>\n      <td>China</td>\n      <td>NaN</td>\n    </tr>\n    <tr>\n      <th>2</th>\n      <td>3</td>\n      <td>Gunnar Nielsen Aaby</td>\n      <td>M</td>\n      <td>24.0</td>\n      <td>NaN</td>\n      <td>NaN</td>\n      <td>Denmark</td>\n      <td>DEN</td>\n      <td>1920 Summer</td>\n      <td>1920.0</td>\n      <td>Summer</td>\n      <td>Antwerpen</td>\n      <td>Football</td>\n      <td>Football Men's Football</td>\n      <td>NaN</td>\n      <td>Denmark</td>\n      <td>NaN</td>\n    </tr>\n    <tr>\n      <th>3</th>\n      <td>4</td>\n      <td>Edgar Lindenau Aabye</td>\n      <td>M</td>\n      <td>34.0</td>\n      <td>NaN</td>\n      <td>NaN</td>\n      <td>Denmark/Sweden</td>\n      <td>DEN</td>\n      <td>1900 Summer</td>\n      <td>1900.0</td>\n      <td>Summer</td>\n      <td>Paris</td>\n      <td>Tug-Of-War</td>\n      <td>Tug-Of-War Men's Tug-Of-War</td>\n      <td>Gold</td>\n      <td>Denmark</td>\n      <td>NaN</td>\n    </tr>\n    <tr>\n      <th>4</th>\n      <td>5</td>\n      <td>Christine Jacoba Aaftink</td>\n      <td>F</td>\n      <td>21.0</td>\n      <td>185.0</td>\n      <td>82.0</td>\n      <td>Netherlands</td>\n      <td>NED</td>\n      <td>1988 Winter</td>\n      <td>1988.0</td>\n      <td>Winter</td>\n      <td>Calgary</td>\n      <td>Speed Skating</td>\n      <td>Speed Skating Women's 500 metres</td>\n      <td>NaN</td>\n      <td>Netherlands</td>\n      <td>NaN</td>\n    </tr>\n  </tbody>\n</table>\n</div>",
            "text/plain": "   ID                      Name Sex   Age  Height  Weight            Team  \\\n0   1                 A Dijiang   M  24.0   180.0    80.0           China   \n1   2                  A Lamusi   M  23.0   170.0    60.0           China   \n2   3       Gunnar Nielsen Aaby   M  24.0     NaN     NaN         Denmark   \n3   4      Edgar Lindenau Aabye   M  34.0     NaN     NaN  Denmark/Sweden   \n4   5  Christine Jacoba Aaftink   F  21.0   185.0    82.0     Netherlands   \n\n   NOC        Games    Year  Season       City          Sport  \\\n0  CHN  1992 Summer  1992.0  Summer  Barcelona     Basketball   \n1  CHN  2012 Summer  2012.0  Summer     London           Judo   \n2  DEN  1920 Summer  1920.0  Summer  Antwerpen       Football   \n3  DEN  1900 Summer  1900.0  Summer      Paris     Tug-Of-War   \n4  NED  1988 Winter  1988.0  Winter    Calgary  Speed Skating   \n\n                              Event Medal       region notes  \n0       Basketball Men's Basketball   NaN        China   NaN  \n1      Judo Men's Extra-Lightweight   NaN        China   NaN  \n2           Football Men's Football   NaN      Denmark   NaN  \n3       Tug-Of-War Men's Tug-Of-War  Gold      Denmark   NaN  \n4  Speed Skating Women's 500 metres   NaN  Netherlands   NaN  "
          },
          "metadata": {}
        }
      ]
    },
    {
      "metadata": {
        "trusted": true
      },
      "cell_type": "code",
      "source": "",
      "execution_count": null,
      "outputs": []
    }
  ],
  "metadata": {
    "kernelspec": {
      "name": "python36",
      "display_name": "Python 3.6",
      "language": "python"
    },
    "language_info": {
      "mimetype": "text/x-python",
      "nbconvert_exporter": "python",
      "name": "python",
      "pygments_lexer": "ipython3",
      "version": "3.6.6",
      "file_extension": ".py",
      "codemirror_mode": {
        "version": 3,
        "name": "ipython"
      }
    }
  },
  "nbformat": 4,
  "nbformat_minor": 2
}