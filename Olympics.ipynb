{
  "cells": [
    {
      "metadata": {
        "trusted": true
      },
      "cell_type": "code",
      "source": "import pandas as pd\nimport numpy as np",
      "execution_count": 24,
      "outputs": []
    },
    {
      "metadata": {
        "trusted": true
      },
      "cell_type": "code",
      "source": "udaje_atleti = pd.read_csv('athlete_events.csv')\nregiony = pd.read_csv('noc_regions.csv')",
      "execution_count": 25,
      "outputs": []
    },
    {
      "metadata": {
        "trusted": true
      },
      "cell_type": "code",
      "source": "data = pd.merge(udaje_atleti, regiony, on='NOC', how='left')",
      "execution_count": 26,
      "outputs": []
    },
    {
      "metadata": {
        "trusted": true
      },
      "cell_type": "code",
      "source": "data.head()",
      "execution_count": 27,
      "outputs": [
        {
          "output_type": "execute_result",
          "execution_count": 27,
          "data": {
            "text/html": "<div>\n<style scoped>\n    .dataframe tbody tr th:only-of-type {\n        vertical-align: middle;\n    }\n\n    .dataframe tbody tr th {\n        vertical-align: top;\n    }\n\n    .dataframe thead th {\n        text-align: right;\n    }\n</style>\n<table border=\"1\" class=\"dataframe\">\n  <thead>\n    <tr style=\"text-align: right;\">\n      <th></th>\n      <th>ID</th>\n      <th>Name</th>\n      <th>Sex</th>\n      <th>Age</th>\n      <th>Height</th>\n      <th>Weight</th>\n      <th>Team</th>\n      <th>NOC</th>\n      <th>Games</th>\n      <th>Year</th>\n      <th>Season</th>\n      <th>City</th>\n      <th>Sport</th>\n      <th>Event</th>\n      <th>Medal</th>\n      <th>region</th>\n      <th>notes</th>\n    </tr>\n  </thead>\n  <tbody>\n    <tr>\n      <th>0</th>\n      <td>1</td>\n      <td>A Dijiang</td>\n      <td>M</td>\n      <td>24.0</td>\n      <td>180.0</td>\n      <td>80.0</td>\n      <td>China</td>\n      <td>CHN</td>\n      <td>1992 Summer</td>\n      <td>1992.0</td>\n      <td>Summer</td>\n      <td>Barcelona</td>\n      <td>Basketball</td>\n      <td>Basketball Men's Basketball</td>\n      <td>NaN</td>\n      <td>China</td>\n      <td>NaN</td>\n    </tr>\n    <tr>\n      <th>1</th>\n      <td>2</td>\n      <td>A Lamusi</td>\n      <td>M</td>\n      <td>23.0</td>\n      <td>170.0</td>\n      <td>60.0</td>\n      <td>China</td>\n      <td>CHN</td>\n      <td>2012 Summer</td>\n      <td>2012.0</td>\n      <td>Summer</td>\n      <td>London</td>\n      <td>Judo</td>\n      <td>Judo Men's Extra-Lightweight</td>\n      <td>NaN</td>\n      <td>China</td>\n      <td>NaN</td>\n    </tr>\n    <tr>\n      <th>2</th>\n      <td>3</td>\n      <td>Gunnar Nielsen Aaby</td>\n      <td>M</td>\n      <td>24.0</td>\n      <td>NaN</td>\n      <td>NaN</td>\n      <td>Denmark</td>\n      <td>DEN</td>\n      <td>1920 Summer</td>\n      <td>1920.0</td>\n      <td>Summer</td>\n      <td>Antwerpen</td>\n      <td>Football</td>\n      <td>Football Men's Football</td>\n      <td>NaN</td>\n      <td>Denmark</td>\n      <td>NaN</td>\n    </tr>\n    <tr>\n      <th>3</th>\n      <td>4</td>\n      <td>Edgar Lindenau Aabye</td>\n      <td>M</td>\n      <td>34.0</td>\n      <td>NaN</td>\n      <td>NaN</td>\n      <td>Denmark/Sweden</td>\n      <td>DEN</td>\n      <td>1900 Summer</td>\n      <td>1900.0</td>\n      <td>Summer</td>\n      <td>Paris</td>\n      <td>Tug-Of-War</td>\n      <td>Tug-Of-War Men's Tug-Of-War</td>\n      <td>Gold</td>\n      <td>Denmark</td>\n      <td>NaN</td>\n    </tr>\n    <tr>\n      <th>4</th>\n      <td>5</td>\n      <td>Christine Jacoba Aaftink</td>\n      <td>F</td>\n      <td>21.0</td>\n      <td>185.0</td>\n      <td>82.0</td>\n      <td>Netherlands</td>\n      <td>NED</td>\n      <td>1988 Winter</td>\n      <td>1988.0</td>\n      <td>Winter</td>\n      <td>Calgary</td>\n      <td>Speed Skating</td>\n      <td>Speed Skating Women's 500 metres</td>\n      <td>NaN</td>\n      <td>Netherlands</td>\n      <td>NaN</td>\n    </tr>\n  </tbody>\n</table>\n</div>",
            "text/plain": "   ID                      Name Sex   Age  Height  Weight            Team  \\\n0   1                 A Dijiang   M  24.0   180.0    80.0           China   \n1   2                  A Lamusi   M  23.0   170.0    60.0           China   \n2   3       Gunnar Nielsen Aaby   M  24.0     NaN     NaN         Denmark   \n3   4      Edgar Lindenau Aabye   M  34.0     NaN     NaN  Denmark/Sweden   \n4   5  Christine Jacoba Aaftink   F  21.0   185.0    82.0     Netherlands   \n\n   NOC        Games    Year  Season       City          Sport  \\\n0  CHN  1992 Summer  1992.0  Summer  Barcelona     Basketball   \n1  CHN  2012 Summer  2012.0  Summer     London           Judo   \n2  DEN  1920 Summer  1920.0  Summer  Antwerpen       Football   \n3  DEN  1900 Summer  1900.0  Summer      Paris     Tug-Of-War   \n4  NED  1988 Winter  1988.0  Winter    Calgary  Speed Skating   \n\n                              Event Medal       region notes  \n0       Basketball Men's Basketball   NaN        China   NaN  \n1      Judo Men's Extra-Lightweight   NaN        China   NaN  \n2           Football Men's Football   NaN      Denmark   NaN  \n3       Tug-Of-War Men's Tug-Of-War  Gold      Denmark   NaN  \n4  Speed Skating Women's 500 metres   NaN  Netherlands   NaN  "
          },
          "metadata": {}
        }
      ]
    },
    {
      "metadata": {},
      "cell_type": "markdown",
      "source": "Potrebujeme vymazat riadky s hodnotami null v stlpcoch \"age\", \"height\", \"weight\". "
    },
    {
      "metadata": {
        "trusted": true
      },
      "cell_type": "code",
      "source": "data = data.dropna(axis=0, subset=['Age', 'Height', 'Weight', 'Year'])",
      "execution_count": 28,
      "outputs": []
    },
    {
      "metadata": {},
      "cell_type": "markdown",
      "source": "Rovnako vymazeme stlpec notes, ktory je nepotrebny."
    },
    {
      "metadata": {
        "trusted": true
      },
      "cell_type": "code",
      "source": "data = data.drop(['notes'], axis=1)",
      "execution_count": 29,
      "outputs": []
    },
    {
      "metadata": {
        "trusted": true
      },
      "cell_type": "code",
      "source": "data.head()",
      "execution_count": 30,
      "outputs": [
        {
          "output_type": "execute_result",
          "execution_count": 30,
          "data": {
            "text/html": "<div>\n<style scoped>\n    .dataframe tbody tr th:only-of-type {\n        vertical-align: middle;\n    }\n\n    .dataframe tbody tr th {\n        vertical-align: top;\n    }\n\n    .dataframe thead th {\n        text-align: right;\n    }\n</style>\n<table border=\"1\" class=\"dataframe\">\n  <thead>\n    <tr style=\"text-align: right;\">\n      <th></th>\n      <th>ID</th>\n      <th>Name</th>\n      <th>Sex</th>\n      <th>Age</th>\n      <th>Height</th>\n      <th>Weight</th>\n      <th>Team</th>\n      <th>NOC</th>\n      <th>Games</th>\n      <th>Year</th>\n      <th>Season</th>\n      <th>City</th>\n      <th>Sport</th>\n      <th>Event</th>\n      <th>Medal</th>\n      <th>region</th>\n    </tr>\n  </thead>\n  <tbody>\n    <tr>\n      <th>0</th>\n      <td>1</td>\n      <td>A Dijiang</td>\n      <td>M</td>\n      <td>24.0</td>\n      <td>180.0</td>\n      <td>80.0</td>\n      <td>China</td>\n      <td>CHN</td>\n      <td>1992 Summer</td>\n      <td>1992.0</td>\n      <td>Summer</td>\n      <td>Barcelona</td>\n      <td>Basketball</td>\n      <td>Basketball Men's Basketball</td>\n      <td>NaN</td>\n      <td>China</td>\n    </tr>\n    <tr>\n      <th>1</th>\n      <td>2</td>\n      <td>A Lamusi</td>\n      <td>M</td>\n      <td>23.0</td>\n      <td>170.0</td>\n      <td>60.0</td>\n      <td>China</td>\n      <td>CHN</td>\n      <td>2012 Summer</td>\n      <td>2012.0</td>\n      <td>Summer</td>\n      <td>London</td>\n      <td>Judo</td>\n      <td>Judo Men's Extra-Lightweight</td>\n      <td>NaN</td>\n      <td>China</td>\n    </tr>\n    <tr>\n      <th>4</th>\n      <td>5</td>\n      <td>Christine Jacoba Aaftink</td>\n      <td>F</td>\n      <td>21.0</td>\n      <td>185.0</td>\n      <td>82.0</td>\n      <td>Netherlands</td>\n      <td>NED</td>\n      <td>1988 Winter</td>\n      <td>1988.0</td>\n      <td>Winter</td>\n      <td>Calgary</td>\n      <td>Speed Skating</td>\n      <td>Speed Skating Women's 500 metres</td>\n      <td>NaN</td>\n      <td>Netherlands</td>\n    </tr>\n    <tr>\n      <th>5</th>\n      <td>5</td>\n      <td>Christine Jacoba Aaftink</td>\n      <td>F</td>\n      <td>21.0</td>\n      <td>185.0</td>\n      <td>82.0</td>\n      <td>Netherlands</td>\n      <td>NED</td>\n      <td>1988 Winter</td>\n      <td>1988.0</td>\n      <td>Winter</td>\n      <td>Calgary</td>\n      <td>Speed Skating</td>\n      <td>Speed Skating Women's 1,000 metres</td>\n      <td>NaN</td>\n      <td>Netherlands</td>\n    </tr>\n    <tr>\n      <th>6</th>\n      <td>5</td>\n      <td>Christine Jacoba Aaftink</td>\n      <td>F</td>\n      <td>25.0</td>\n      <td>185.0</td>\n      <td>82.0</td>\n      <td>Netherlands</td>\n      <td>NED</td>\n      <td>1992 Winter</td>\n      <td>1992.0</td>\n      <td>Winter</td>\n      <td>Albertville</td>\n      <td>Speed Skating</td>\n      <td>Speed Skating Women's 500 metres</td>\n      <td>NaN</td>\n      <td>Netherlands</td>\n    </tr>\n  </tbody>\n</table>\n</div>",
            "text/plain": "   ID                      Name Sex   Age  Height  Weight         Team  NOC  \\\n0   1                 A Dijiang   M  24.0   180.0    80.0        China  CHN   \n1   2                  A Lamusi   M  23.0   170.0    60.0        China  CHN   \n4   5  Christine Jacoba Aaftink   F  21.0   185.0    82.0  Netherlands  NED   \n5   5  Christine Jacoba Aaftink   F  21.0   185.0    82.0  Netherlands  NED   \n6   5  Christine Jacoba Aaftink   F  25.0   185.0    82.0  Netherlands  NED   \n\n         Games    Year  Season         City          Sport  \\\n0  1992 Summer  1992.0  Summer    Barcelona     Basketball   \n1  2012 Summer  2012.0  Summer       London           Judo   \n4  1988 Winter  1988.0  Winter      Calgary  Speed Skating   \n5  1988 Winter  1988.0  Winter      Calgary  Speed Skating   \n6  1992 Winter  1992.0  Winter  Albertville  Speed Skating   \n\n                                Event Medal       region  \n0         Basketball Men's Basketball   NaN        China  \n1        Judo Men's Extra-Lightweight   NaN        China  \n4    Speed Skating Women's 500 metres   NaN  Netherlands  \n5  Speed Skating Women's 1,000 metres   NaN  Netherlands  \n6    Speed Skating Women's 500 metres   NaN  Netherlands  "
          },
          "metadata": {}
        }
      ]
    },
    {
      "metadata": {},
      "cell_type": "markdown",
      "source": "Este si pre istotu mozeme skontrolovat ci uz sa v nasom datasete nenachadzaju ziadne hodnoty null v stlpcoch \"age\", \"height\", \"weight\", \"region\". "
    },
    {
      "metadata": {
        "trusted": true
      },
      "cell_type": "code",
      "source": "pd.isnull(data).sum()",
      "execution_count": 31,
      "outputs": [
        {
          "output_type": "execute_result",
          "execution_count": 31,
          "data": {
            "text/plain": "ID             0\nName           0\nSex            0\nAge            0\nHeight         0\nWeight         0\nTeam           0\nNOC            0\nGames          0\nYear           0\nSeason         0\nCity           0\nSport          0\nEvent          0\nMedal     107464\nregion       138\ndtype: int64"
          },
          "metadata": {}
        }
      ]
    },
    {
      "metadata": {},
      "cell_type": "markdown",
      "source": "Vytvorime stlpec \"haveMedal\" kde zapiseme, ci sportovec ziskal alebo neziskal nejaku medailu"
    },
    {
      "metadata": {
        "trusted": true
      },
      "cell_type": "code",
      "source": "data['haveMedal'] = np.where(data['Medal'].isnull(), 0, 1)",
      "execution_count": 32,
      "outputs": []
    },
    {
      "metadata": {
        "trusted": true
      },
      "cell_type": "code",
      "source": "data.head()",
      "execution_count": 33,
      "outputs": [
        {
          "output_type": "execute_result",
          "execution_count": 33,
          "data": {
            "text/html": "<div>\n<style scoped>\n    .dataframe tbody tr th:only-of-type {\n        vertical-align: middle;\n    }\n\n    .dataframe tbody tr th {\n        vertical-align: top;\n    }\n\n    .dataframe thead th {\n        text-align: right;\n    }\n</style>\n<table border=\"1\" class=\"dataframe\">\n  <thead>\n    <tr style=\"text-align: right;\">\n      <th></th>\n      <th>ID</th>\n      <th>Name</th>\n      <th>Sex</th>\n      <th>Age</th>\n      <th>Height</th>\n      <th>Weight</th>\n      <th>Team</th>\n      <th>NOC</th>\n      <th>Games</th>\n      <th>Year</th>\n      <th>Season</th>\n      <th>City</th>\n      <th>Sport</th>\n      <th>Event</th>\n      <th>Medal</th>\n      <th>region</th>\n      <th>haveMedal</th>\n    </tr>\n  </thead>\n  <tbody>\n    <tr>\n      <th>0</th>\n      <td>1</td>\n      <td>A Dijiang</td>\n      <td>M</td>\n      <td>24.0</td>\n      <td>180.0</td>\n      <td>80.0</td>\n      <td>China</td>\n      <td>CHN</td>\n      <td>1992 Summer</td>\n      <td>1992.0</td>\n      <td>Summer</td>\n      <td>Barcelona</td>\n      <td>Basketball</td>\n      <td>Basketball Men's Basketball</td>\n      <td>NaN</td>\n      <td>China</td>\n      <td>0</td>\n    </tr>\n    <tr>\n      <th>1</th>\n      <td>2</td>\n      <td>A Lamusi</td>\n      <td>M</td>\n      <td>23.0</td>\n      <td>170.0</td>\n      <td>60.0</td>\n      <td>China</td>\n      <td>CHN</td>\n      <td>2012 Summer</td>\n      <td>2012.0</td>\n      <td>Summer</td>\n      <td>London</td>\n      <td>Judo</td>\n      <td>Judo Men's Extra-Lightweight</td>\n      <td>NaN</td>\n      <td>China</td>\n      <td>0</td>\n    </tr>\n    <tr>\n      <th>4</th>\n      <td>5</td>\n      <td>Christine Jacoba Aaftink</td>\n      <td>F</td>\n      <td>21.0</td>\n      <td>185.0</td>\n      <td>82.0</td>\n      <td>Netherlands</td>\n      <td>NED</td>\n      <td>1988 Winter</td>\n      <td>1988.0</td>\n      <td>Winter</td>\n      <td>Calgary</td>\n      <td>Speed Skating</td>\n      <td>Speed Skating Women's 500 metres</td>\n      <td>NaN</td>\n      <td>Netherlands</td>\n      <td>0</td>\n    </tr>\n    <tr>\n      <th>5</th>\n      <td>5</td>\n      <td>Christine Jacoba Aaftink</td>\n      <td>F</td>\n      <td>21.0</td>\n      <td>185.0</td>\n      <td>82.0</td>\n      <td>Netherlands</td>\n      <td>NED</td>\n      <td>1988 Winter</td>\n      <td>1988.0</td>\n      <td>Winter</td>\n      <td>Calgary</td>\n      <td>Speed Skating</td>\n      <td>Speed Skating Women's 1,000 metres</td>\n      <td>NaN</td>\n      <td>Netherlands</td>\n      <td>0</td>\n    </tr>\n    <tr>\n      <th>6</th>\n      <td>5</td>\n      <td>Christine Jacoba Aaftink</td>\n      <td>F</td>\n      <td>25.0</td>\n      <td>185.0</td>\n      <td>82.0</td>\n      <td>Netherlands</td>\n      <td>NED</td>\n      <td>1992 Winter</td>\n      <td>1992.0</td>\n      <td>Winter</td>\n      <td>Albertville</td>\n      <td>Speed Skating</td>\n      <td>Speed Skating Women's 500 metres</td>\n      <td>NaN</td>\n      <td>Netherlands</td>\n      <td>0</td>\n    </tr>\n  </tbody>\n</table>\n</div>",
            "text/plain": "   ID                      Name Sex   Age  Height  Weight         Team  NOC  \\\n0   1                 A Dijiang   M  24.0   180.0    80.0        China  CHN   \n1   2                  A Lamusi   M  23.0   170.0    60.0        China  CHN   \n4   5  Christine Jacoba Aaftink   F  21.0   185.0    82.0  Netherlands  NED   \n5   5  Christine Jacoba Aaftink   F  21.0   185.0    82.0  Netherlands  NED   \n6   5  Christine Jacoba Aaftink   F  25.0   185.0    82.0  Netherlands  NED   \n\n         Games    Year  Season         City          Sport  \\\n0  1992 Summer  1992.0  Summer    Barcelona     Basketball   \n1  2012 Summer  2012.0  Summer       London           Judo   \n4  1988 Winter  1988.0  Winter      Calgary  Speed Skating   \n5  1988 Winter  1988.0  Winter      Calgary  Speed Skating   \n6  1992 Winter  1992.0  Winter  Albertville  Speed Skating   \n\n                                Event Medal       region  haveMedal  \n0         Basketball Men's Basketball   NaN        China          0  \n1        Judo Men's Extra-Lightweight   NaN        China          0  \n4    Speed Skating Women's 500 metres   NaN  Netherlands          0  \n5  Speed Skating Women's 1,000 metres   NaN  Netherlands          0  \n6    Speed Skating Women's 500 metres   NaN  Netherlands          0  "
          },
          "metadata": {}
        }
      ]
    },
    {
      "metadata": {
        "trusted": true,
        "scrolled": true
      },
      "cell_type": "code",
      "source": "X = data.iloc[:,np.r_[3:6,9]]\ny = data.iloc[:,16]",
      "execution_count": 34,
      "outputs": []
    },
    {
      "metadata": {
        "trusted": true
      },
      "cell_type": "code",
      "source": "from keras.models import Sequential\nfrom keras.layers import Dense",
      "execution_count": 36,
      "outputs": []
    },
    {
      "metadata": {
        "trusted": true
      },
      "cell_type": "code",
      "source": "model = Sequential()\nmodel.add(Dense(12, input_dim=4, activation='relu'))\nmodel.add(Dense(6, activation='relu'))\nmodel.add(Dense(1, activation='sigmoid'))",
      "execution_count": 53,
      "outputs": []
    },
    {
      "metadata": {
        "trusted": true
      },
      "cell_type": "code",
      "source": "model.compile(loss='binary_crossentropy', optimizer='adam', metrics=['accuracy'])",
      "execution_count": 54,
      "outputs": []
    },
    {
      "metadata": {
        "trusted": true
      },
      "cell_type": "code",
      "source": "model.fit(X, y, epochs=5, batch_size=1000)\nscores=model.evaluate(X,y)",
      "execution_count": 55,
      "outputs": [
        {
          "output_type": "stream",
          "text": "Epoch 1/5\n125495/125495 [==============================] - 2s 17us/step - loss: 11.2760 - accuracy: 0.8067\nEpoch 2/5\n125495/125495 [==============================] - 1s 10us/step - loss: 0.6498 - accuracy: 0.8017\nEpoch 3/5\n125495/125495 [==============================] - 1s 10us/step - loss: 0.5133 - accuracy: 0.8238\nEpoch 4/5\n125495/125495 [==============================] - 1s 8us/step - loss: 0.4419 - accuracy: 0.8496\nEpoch 5/5\n125495/125495 [==============================] - 1s 9us/step - loss: 0.4281 - accuracy: 0.8552\n125495/125495 [==============================] - 12s 94us/step\n",
          "name": "stdout"
        }
      ]
    },
    {
      "metadata": {
        "trusted": true
      },
      "cell_type": "code",
      "source": "print(\"\\nPresnost siete: %.2f%%\"%(scores[1]*100))",
      "execution_count": 56,
      "outputs": [
        {
          "output_type": "stream",
          "text": "\nPresnost siete: 85.60%\n",
          "name": "stdout"
        }
      ]
    },
    {
      "metadata": {
        "trusted": true
      },
      "cell_type": "code",
      "source": "",
      "execution_count": null,
      "outputs": []
    }
  ],
  "metadata": {
    "kernelspec": {
      "name": "python36",
      "display_name": "Python 3.6",
      "language": "python"
    },
    "language_info": {
      "mimetype": "text/x-python",
      "nbconvert_exporter": "python",
      "name": "python",
      "pygments_lexer": "ipython3",
      "version": "3.6.6",
      "file_extension": ".py",
      "codemirror_mode": {
        "version": 3,
        "name": "ipython"
      }
    }
  },
  "nbformat": 4,
  "nbformat_minor": 2
}
